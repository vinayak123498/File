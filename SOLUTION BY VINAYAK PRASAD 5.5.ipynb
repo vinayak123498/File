{
 "cells": [
  {
   "cell_type": "markdown",
   "id": "531c8141-f2a2-471c-b5c3-309ac8fe8465",
   "metadata": {},
   "source": [
    "THEORETICAL QUESTION "
   ]
  },
  {
   "cell_type": "markdown",
   "id": "c8157c05-cd16-4deb-9648-a85043fe31e7",
   "metadata": {},
   "source": [
    "Answer 1:->\n",
    "Complied Languages means complier translate the source code into machine code before run it.The output come in the form of ..,exe. This program run directly on the hardware.It speed is faster.\n",
    "Interpreted languages means the interpreter read the line by line while at run at time.No output delivered by it.Interpreter handle each code while it at run at time.It speed is generally slower.\n",
    "\n",
    "Features                                                complied language  .                                                 Interpreter languages.\n",
    "\n",
    "Translation                                         Beforre Execution .                                                    During execution .\n",
    "Speed                                               Faster.                                                                  slower .\n",
    "error checking                                    At compile time.                                                        Atbruntime\n",
    "output                                              executable file.                                                      no executable file\n",
    "Portability                                       Platform-specific  .                                                   More portable(with interpreter)"
   ]
  },
  {
   "cell_type": "markdown",
   "id": "793ca47c-168c-4b29-bf93-36b47077c8b8",
   "metadata": {},
   "source": [
    "Answer 2->Exception handling in python is the way to handle the error that occur during the program running or program got executed.It handle the error because it doesn't the program to be crash.\n",
    "Exception means the error that occur during the period of execution,running time etc.The error such as division by zero,using the variable that doesn't exist, and trying to open the missing file.\n",
    "Basic syntax are:->try,except,else,finally.Each syntax have their own meaning.\n",
    "try:Blockmof code where errors may happen.\n",
    "except:What to do if a specific error occurs.\n",
    "else: Runs if no errors occured.\n",
    "finally:Always runs(good for chosing files,cleaning up)"
   ]
  },
  {
   "cell_type": "markdown",
   "id": "b9a4ce23-0fd0-4ae0-9800-e22556a05e42",
   "metadata": {},
   "source": [
    "Answer 3:-\"Finally \" block say that code must run no matter what happened yet.It majorly used in exception handling.It is udsed after the try and execpt blocks.It is used to cleanuo actions like closung files,releasing resources, and closing database connections.\n"
   ]
  },
  {
   "cell_type": "markdown",
   "id": "c49ca51f-edcb-467f-aad5-683a193b9ebb",
   "metadata": {},
   "source": [
    "Answer 4:-Logging is the built in function that describe the recorded message that written in the program while it 's run.\n",
    "It is used to tract the error and execption.It records program execution steps.It debug complex problem.It maintain logs in production systems.\n",
    "It replace the print in the point :1) to write to files.console etc,2)It is support logs levels,formatting etc,3)It can save logs for future debugging.\n",
    "\n",
    "LOGGING LEVELS:\n",
    "\n",
    "LEVEL                                                                PURPOSE\n",
    "\n",
    "DEBUG                                                                  Detailed debugging info\n",
    "\n",
    "INFO                                                                 General info about program flow.\n",
    "\n",
    "WARNING                                                           Something unexpected but not fatal.\n",
    "\n",
    "ERROR                                                       A serious priblem that prevents part of the program from working.\n",
    "\n",
    "CRITCAL                                                    A severe error that may stop the program."
   ]
  },
  {
   "cell_type": "markdown",
   "id": "be92fab6-9ab6-4be2-8f65-23f9ade59792",
   "metadata": {},
   "source": [
    "Answer 5 :-__del__method in python is used to cleanup the behavior when there is no object.It is the special method to called when object is about to destroyed or get garbaged.\n",
    "It ofteb used to close the files or network connections,it release resources like memory or locks, it is useful to log the deletionof an object."
   ]
  },
  {
   "cell_type": "markdown",
   "id": "8266ae64-6505-4b49-bb97-156776aceaa6",
   "metadata": {},
   "source": [
    "Answer 6:- Both import and from...import are used to bring the external module or specific object from another module in to your program.But there are many difference\n",
    "\n",
    "Import statement :- import the entire module and it can acess with the help of module perfix.\n",
    "\n",
    "from...import statement are import the specific parts like function,class or variable. It can directly access it without module prefix.\n",
    "\n",
    "\n",
    "\n",
    "\n",
    "\n",
    "FEATURES                                                   IMPORT  .                                                                    FROM....IMPORT \n",
    "\n",
    "scope                                             Whole module .                                                               Specifc object(s) only.\n",
    "\n",
    "Access                                            Use module.name .                                                               Use name directly.\n",
    "\n",
    "Clarity                                           More explicit.                                                                    More concise.\n",
    "\n",
    "Risk of name conflct                                low .                                                                               higher."
   ]
  },
  {
   "cell_type": "markdown",
   "id": "07c2d00a-87f3-40d3-9dce-76d7e05b3b0d",
   "metadata": {},
   "source": [
    "Answer 7:-Handling the multiple execption through using 1)multple execpt blocks.@)Handlimg multiple exeption in one block(tuple)."
   ]
  },
  {
   "cell_type": "markdown",
   "id": "0eefe85a-4669-443f-b723-6d2907a303c6",
   "metadata": {},
   "source": [
    "Answer 8:-With statement help in open and manage the files safely and efficiently.It ensure that the file must automaticaaly closed after completing the program.\n",
    "\n",
    "Features \n",
    "\n",
    "1)It ensure the automaticaaly cleanup.\n",
    "\n",
    "2)Cleaner code.\n",
    "\n",
    "3)Prevent resource leaks.\n",
    "\n",
    "4)Easier to read.\n"
   ]
  },
  {
   "cell_type": "raw",
   "id": "913df15e-c621-42d1-a2be-92ae8276f4ad",
   "metadata": {},
   "source": [
    "Answer 9:-\n",
    "Features                                                 Multithreading                                                    Multiprocessing \n",
    "\n",
    "concept                                Runs multiple threads in one process                                 Run multiple independent processes \n",
    "Use case                           Best for I/O-bound rasks                                                Bestbfor CPu-bound tasks\n",
    "Memory                                 Threads share memory spaces                                          Process have separate memory.\n",
    "speed                               Faster for I/O operations                                               Better for parallel computations\n",
    "Global Interpreter lock             Python threads are limited by GIL                                  Not affected by GIl-each process has its own                                                                                                            python interpreter .\n",
    "Communication                      Easier via shared variable or queues                                    Require inter-process communication \n",
    "Crash risk                       One thread crashing can affect the whole process                          Each process is isolated-safer"
   ]
  },
  {
   "cell_type": "markdown",
   "id": "ac5e9f8d-12ab-4b28-a9a5-e260ed2dca32",
   "metadata": {},
   "source": [
    "Answer 10:-\n",
    "Advantages of Logging in program\n",
    "\n",
    "1)Debugging aid-Helps trace bugs and understand the flow of your program.\n",
    "\n",
    "2)Records events:-Keeos a history of events,errors,and sysyem behavior over time.\n",
    "\n",
    "3)Saves output to files:Unike print(),logging can store messages in log files.\n",
    "\n",
    "4)Flexible levels:Use different levels:DEBUG<INFO<WARNING<ERROR<CRITICAL.\n",
    "\n",
    "5)Helps in production:-You can turn logging off or change levels without removing log statements.\n",
    "\n",
    "6)Thread-&process-safe:Can be used safely in multithreaded and multiprocessing apps."
   ]
  },
  {
   "cell_type": "markdown",
   "id": "ab77ca9b-fddb-4dca-8ec4-52ca637690e7",
   "metadata": {},
   "source": [
    "Answer 11:-Memory Management means the thing which used to allocates,uses and realeses the memory so that the variable,data structure and objects can be stored effeciently. It make sure that while the program on run ,it must ensure the everything must stored.\n",
    "\n",
    "Features:\n",
    "\n",
    "\n",
    "1:Automatic Memory Allocation:->It automatically allocates the memory to teh variable when it created.\n",
    "\n",
    "2:Reference Counting:->Memory management keep track the object in teh form of variables and container in teh python.\n",
    "\n",
    "3:Garbage Collection:->It used to detect and clean up the two or more object when they become fully unreachable.\n",
    "\n",
    "4:Dynamic Typing and Object Reuse:->Since the python is dynamic,memory are stored and managed on actual runtime."
   ]
  },
  {
   "cell_type": "markdown",
   "id": "ebd668be-c8d0-4862-84ec-1c607977fbf4",
   "metadata": {},
   "source": [
    "Answer 12:strps in exception handling in the python:\n",
    "\n",
    "1) Use try block to wrap risky code.\n",
    "\n",
    "2) Use except block(s) to catch errors\n",
    "\n",
    "3)Optionally use else block.\n",
    "\n",
    "4)Use finally block"
   ]
  },
  {
   "cell_type": "markdown",
   "id": "13525423-0f2b-41c8-b979-6a53aa9ebb17",
   "metadata": {},
   "source": [
    "Answer 13:\n",
    "Memroy Management is important because of following reason:\n",
    "\n",
    "* uses  memory efficiently.\n",
    "\n",
    "* Avoids crashes or slowdown.\n",
    "\n",
    "* Releases memory when no longer needed.\n",
    "\n",
    "* Works well on limited-resource devices or at scale.\n",
    "\n",
    "* Prevents memroy leaks.\n",
    "\n",
    "*Improve performance.\n",
    "\n",
    "* Supports scalability.\n",
    "\n",
    "* Ensures resource cleanup.\n",
    "\n",
    "* Manages lifespan of objects."
   ]
  },
  {
   "cell_type": "markdown",
   "id": "f3374519-edaf-4242-9b31-50225eaaf649",
   "metadata": {},
   "source": [
    "Answer 14: try and except block are the tools that catch,detect and handle the error in python during the program get executed.\n",
    "PURPOSE OF try:The try blocks the wrap the code that raise as the exception .If there is no exception,the code will run normally.If the exception occurs ,python  stops  the block of code with the help of try block and look for the except block.\n",
    "\n",
    "PURPOSE OF except:except block handle the error where you found"
   ]
  },
  {
   "cell_type": "markdown",
   "id": "c140ecbd-cc11-48ae-8d5c-321e95e4e51c",
   "metadata": {},
   "source": [
    "Answer 15: Garabage Collection system is responsible for automatically managing the emory,cleaning up an objects that are no longer needed.it help prevent memory leaks and makes programming easier by handling memory allocation and deallocation behind the scens."
   ]
  },
  {
   "cell_type": "markdown",
   "id": "3149a406-4c75-48aa-abd4-28f7e9a0caa2",
   "metadata": {},
   "source": [
    "Answer 16: Else block used when try blocks  raiese as exceptiom .It is use to separate the code so that they can run only when there is no exception.It help make the code easier and cleaner to understand."
   ]
  },
  {
   "cell_type": "markdown",
   "id": "3e853291-7bbc-455c-bdb9-898c7fef6a37",
   "metadata": {},
   "source": [
    "Answer 17:Logging levels contain five logging that's DEBUG,INFO,WARNING,ERROR,and CRITICAL .Each levels are responsible to tract the each event happening during the program running.\n",
    "\n",
    "DEBUG:->It contain detailed information,useful for diagnosing problem during development.\n",
    "\n",
    "INFO:-> Confirmation that things are working as expected.\n",
    "\n",
    "WARNING:->An indication that something unexpected happenend,but the program is still running.\n",
    "\n",
    "ERROR:->A more serious error-the program may not be able to perform a function.\n",
    "\n",
    "CRITICAL:->A very serious error-the program itself may be unable to continue running."
   ]
  },
  {
   "cell_type": "markdown",
   "id": "90d7b9b7-8e8d-4841-a28b-5fae597bf4ed",
   "metadata": {},
   "source": [
    "Answer 18: os.fork and multiproccessing are the module which used to create the new processess ,howerever thry work quite dufferently.\n",
    "\n",
    "os.fork()-low level process creation\n",
    "\n",
    "* It create the child processess fromthe cureent processeess.The child is identical to parent processess ath the time of fork.\n",
    "\n",
    "Multiprocessing -higher level abstraction for processess.\n",
    "\n",
    "* It create the new python process."
   ]
  },
  {
   "cell_type": "markdown",
   "id": "569998c2-46e6-409f-a965-d1931fca0f54",
   "metadata": {},
   "source": [
    "Answer 19:  Closing a file is very important for proper resource management and data intergrity:\n",
    "1) Release sysyem resources\n",
    "\n",
    "2)Ensures Data is written.\n",
    "\n",
    "3)Allows other programs to access the file.\n",
    "\n",
    "4)Prevents corruption or undefined brahavior.\n",
    "\n"
   ]
  },
  {
   "cell_type": "markdown",
   "id": "76720d36-67e6-4262-8401-ebc0bf86f555",
   "metadata": {},
   "source": [
    "Answer 20 :\n",
    "file.read():->Read the entire content of the file as a single string,unless the size is specified.It also specify the how many character means bytes to read.\n",
    "\n",
    "file.readline():->It read only one line from the file at a time upto the newline It call the return on each new line in sequence."
   ]
  },
  {
   "cell_type": "markdown",
   "id": "46e48d3b-08fb-4c22-bfd7-0211ee9b09dc",
   "metadata": {},
   "source": [
    "Answer 21: The logging module in python is used to racking the evevets that happening during the period of execition of the problem.It is used fpr Debugging, monitoring, and auditing the trail and error reporting .It has 5 level in logging,that's DEBUG, INFO, WARNING, ERROR ,and CRITICAL."
   ]
  },
  {
   "cell_type": "markdown",
   "id": "b6277d9b-f4ba-40eb-9a53-ab0b24c27cfe",
   "metadata": {},
   "source": [
    "Answer 22:The os module is used to interact with  operating system and mostly used in file and directory handling.It help in following ways:\n",
    "\n",
    "* Crete, rename, delete , or move files and directories.\n",
    "\n",
    "* Access file system paths.\n",
    "\n",
    "* Check file/directory existence.\n",
    "\n",
    "* Work with environment variables,permissions,etc.\n",
    "\n",
    "* Check the files/dir existence.\n",
    "\n",
    "* List files]folders\n",
    "\n",
    "* Create /remove folders\n",
    "\n",
    "* Rename/move files.\n",
    "\n",
    "* Delete files.\n",
    "\n",
    "* Work with paths.\n",
    "\n",
    "* Change directories."
   ]
  },
  {
   "cell_type": "markdown",
   "id": "7e3c14a7-0728-4cca-9963-d8e50456d5ba",
   "metadata": {},
   "source": [
    "Answer 23: Challenges faced by Memory Management:\n",
    "\n",
    "1:Referencing cycle.\n",
    "\n",
    "2:Fear of the memory leaks.\n",
    "\n",
    "3: High memory usage with large objects.\n",
    "\n",
    "4:Fragmentation.\n",
    "\n",
    "5:Global Interpreter Lock.\n",
    "\n",
    "6: Lack of Manual Control.\n",
    "\n",
    "7:Tracking and debugging Memroy Issues."
   ]
  },
  {
   "cell_type": "markdown",
   "id": "9119c208-dc3d-49f7-8c85-4e57e72c98f1",
   "metadata": {},
   "source": [
    "Answer 24: In python exception raise manually during using the return statement.This is very useful to catch the signal of raising error in the code.\n",
    "Always raise the exception as TypeError, ValueError, FileNotFoundError,etc"
   ]
  },
  {
   "cell_type": "markdown",
   "id": "a5b2805d-1a49-417d-bbd3-d65fe2e424eb",
   "metadata": {},
   "source": [
    "Answer 25: Multithreading have several inmortance:\n",
    "\n",
    "1:Improve performance.\n",
    "\n",
    "2: Improve responsiveness.\n",
    "\n",
    "3: Improve the efficinecy.\n",
    "\n",
    "4: It can handle multiple task concurrently or rly on I/O operations.\n",
    "\n",
    "5:It can handle multiple tasks concureently.\n",
    "\n",
    "6:Efficient Use of I/O \n"
   ]
  },
  {
   "cell_type": "markdown",
   "id": "d9bb07cf-1d14-4279-bc28-71dee6de0c20",
   "metadata": {},
   "source": [
    "PRACTICAL QUESTION "
   ]
  },
  {
   "cell_type": "markdown",
   "id": "41972b47-d271-4d72-9e75-2fdffcccbb0b",
   "metadata": {},
   "source": [
    "Answer 1"
   ]
  },
  {
   "cell_type": "code",
   "execution_count": 7,
   "id": "01bb7c58-8fec-4639-9345-1ead77e66111",
   "metadata": {},
   "outputs": [],
   "source": [
    "with open(\"Vinuuuuuuuu.txt\",\"w\") as file:\n",
    "    file.write(\"My name is Vinudecruz and I am your death ,so come on and have some fun\")"
   ]
  },
  {
   "cell_type": "markdown",
   "id": "d1ba93e2-aa67-42a0-9625-5edb00a541b9",
   "metadata": {},
   "source": [
    "Answer 2"
   ]
  },
  {
   "cell_type": "code",
   "execution_count": 12,
   "id": "fb045a85-def9-439c-8182-0bd340281b9f",
   "metadata": {},
   "outputs": [
    {
     "name": "stdout",
     "output_type": "stream",
     "text": [
      "My name is Vinudecruz and i am your death,so come on and have some fun.We never surrender ,we never forgive and we never forget.We are the son of India ,Bharat.We will never lay down our mother head to anyone else.Destroying the Pakistan and Bangladesh is the primary responsibility of every Indians.Jai vandhe bharatham,Jai bharat mata ki jai,jai bhaavani jai shivagi."
     ]
    }
   ],
   "source": [
    "with open(\"Vinuuuuuuuu.txt\",\"w\") as file:\n",
    "    file.write(\"My name is Vinudecruz and i am your death,so come on and have some fun.\")\n",
    "    file.write(\"We never surrender ,we never forgive and we never forget.\")\n",
    "    file.write(\"We are the son of India ,Bharat.We will never lay down our mother head to anyone else.\")\n",
    "    file.write(\"Destroying the Pakistan and Bangladesh is the primary responsibility of every Indians.\")\n",
    "    file.write(\"Jai vandhe bharatham,Jai bharat mata ki jai,jai bhaavani jai shivagi.\")\n",
    "\n",
    "with open(\"Vinuuuuuuuu.txt\",\"r\") as file:\n",
    "    for line in file:\n",
    "        print(line, end=\"\")"
   ]
  },
  {
   "cell_type": "markdown",
   "id": "9ea9d305-a29e-4a95-a177-d5234155fb02",
   "metadata": {},
   "source": [
    "Answer 3:"
   ]
  },
  {
   "cell_type": "code",
   "execution_count": 21,
   "id": "f8e5a5ee-c766-4ac3-ba69-dafd7a9403ac",
   "metadata": {},
   "outputs": [
    {
     "name": "stdout",
     "output_type": "stream",
     "text": [
      "The Error: The file doesn't exist\n"
     ]
    }
   ],
   "source": [
    "try:\n",
    "    with open(\"example.txt\", \"r\") as file:\n",
    "        content = file.read()\n",
    "        print(content)\n",
    "except FileNotFoundError:\n",
    "    print(\"The Error: The file doesn't exist\")"
   ]
  },
  {
   "cell_type": "markdown",
   "id": "6682769d-a371-4890-966d-6f787aa860bd",
   "metadata": {},
   "source": [
    "Answer 4:"
   ]
  },
  {
   "cell_type": "code",
   "execution_count": 89,
   "id": "cc8224d3-2317-4952-baee-a6d63131e03e",
   "metadata": {},
   "outputs": [
    {
     "name": "stdout",
     "output_type": "stream",
     "text": [
      "The Dangerous file successfylly copied to Sater file\n"
     ]
    }
   ],
   "source": [
    "with open(\"Dangerous.txt\", \"w\") as Dangerous_file:\n",
    "    Dangerous_file.write(\"This is the country of all people of India\")\n",
    "    Dangerous_file.write(\"This is the powerful people of India\")\n",
    "    Dangerous_file.write(\"This is loving prople of India\")\n",
    "\n",
    "try:\n",
    "    with open(\"Dangerous.txt\",\"r\") as Dangerous_file:\n",
    "        content = Dangerous_file.read()\n",
    "    with open(\"Safer.txt\" , \"w\") as Safer_file:\n",
    "        Safer_file.write(content)\n",
    "\n",
    "    print(\"The Dangerous file successfylly copied to Sater file\")\n",
    "except FileNotFoundError:\n",
    "    print(\"Error: The Dangerous file content not exist\")\n",
    "        "
   ]
  },
  {
   "cell_type": "markdown",
   "id": "bd5c7ecc-65c3-4920-9e35-337fe005b694",
   "metadata": {},
   "source": [
    "Answer 5"
   ]
  },
  {
   "cell_type": "code",
   "execution_count": 93,
   "id": "5945dee0-ad64-4733-988e-4f1e49073266",
   "metadata": {},
   "outputs": [
    {
     "name": "stdout",
     "output_type": "stream",
     "text": [
      "Error: Cannot divide by Zero\n"
     ]
    }
   ],
   "source": [
    "try:\n",
    "    Government = 100000\n",
    "    Government2 = 0\n",
    "    UnionGovernmet = Government/Government2\n",
    "    print(\"The government of all Nation is\" , UnionGovernment)\n",
    "except ZeroDivisionError:\n",
    "    print(\"Error: Cannot divide by Zero\")"
   ]
  },
  {
   "cell_type": "markdown",
   "id": "2f0fcd6e-df9a-49a5-a1d7-84a28bbc7946",
   "metadata": {},
   "source": [
    "Answer 6"
   ]
  },
  {
   "cell_type": "code",
   "execution_count": 106,
   "id": "ae994060-bc3d-44c4-8a87-f25939999cb8",
   "metadata": {},
   "outputs": [
    {
     "name": "stdout",
     "output_type": "stream",
     "text": [
      "ERROR:Tried to divide by zero.Check 'POEWERFUL.log' for details\n"
     ]
    }
   ],
   "source": [
    "import logging\n",
    "logging.basicConfig(\n",
    "    filename = \"POWERFUL.log\",\n",
    "    level = logging.ERROR,\n",
    "    format = \" %(asctime)s - %(levelname)s -%(message)s\"\n",
    ")\n",
    "try:\n",
    "    union =123456\n",
    "    state = 0\n",
    "    central = union/state\n",
    "    print(\"the central government plan is\",central)\n",
    "except ZeroDivisionError:\n",
    "    logging.error(\"It is attempt to check wheather number divide by zero\")\n",
    "    print(\"ERROR:Tried to divide by zero.Check 'POEWERFUL.log' for details\")\n",
    "\n",
    "    "
   ]
  },
  {
   "cell_type": "markdown",
   "id": "2bb54334-c56b-4f18-bf52-4613ec3d858f",
   "metadata": {},
   "source": [
    "Answer 7"
   ]
  },
  {
   "cell_type": "code",
   "execution_count": 100,
   "id": "7a2ba8d9-3f83-4b5b-8734-a1919ad2d38e",
   "metadata": {},
   "outputs": [],
   "source": [
    "import logging \n",
    "\n",
    "logging.basicConfig(\n",
    "    filename = \"Destroyer_of_world.log\",\n",
    "    level = logging.DEBUG,\n",
    "    format = \"%(asctime)s - %(levelname)s - %(message)s\"\n",
    ")\n",
    "logging.debug(\"The car is my peoperty of every family\")\n",
    "logging.info(\"The love is nothing in front of parent\")\n",
    "logging.warning(\"The hate is the best thing in the world\")\n",
    "logging.error(\"The terror that make you just terror\")\n",
    "logging.critical(\"The terror make by Indian army is just enought to lay down the knee of the Pakistan\")\n",
    "              "
   ]
  },
  {
   "cell_type": "markdown",
   "id": "be41ce78-5498-4960-a2ec-6f648fe6de42",
   "metadata": {},
   "source": [
    "Answer 8"
   ]
  },
  {
   "cell_type": "code",
   "execution_count": 112,
   "id": "719182ad-b598-418f-9434-ba13fa5a0114",
   "metadata": {},
   "outputs": [
    {
     "name": "stdout",
     "output_type": "stream",
     "text": [
      "The Dhruvaaa file is not exist\n"
     ]
    }
   ],
   "source": [
    "try:\n",
    "    with open (\"Dhruvaaaaa.txt\" , \"r\") as Dhruvaaaaa_file:\n",
    "        content =Dhruvaaaaa_file.read()\n",
    "        print(content)\n",
    "except FileNotFoundError:\n",
    "    print(\"The Dhruvaaa file is not exist\")"
   ]
  },
  {
   "cell_type": "markdown",
   "id": "63c9cd2c-7c79-401e-847c-389c50fee462",
   "metadata": {},
   "source": [
    "Answer 9"
   ]
  },
  {
   "cell_type": "code",
   "execution_count": 117,
   "id": "c4cdf966-3cb2-4a64-950a-64e39ce87c6e",
   "metadata": {},
   "outputs": [
    {
     "name": "stdout",
     "output_type": "stream",
     "text": [
      "['This economy was the history of country\\n', 'This chicken piece is mine\\n', 'Godzilla vs Kong\\n']\n"
     ]
    }
   ],
   "source": [
    "with open (\"Nikita.txt\",\"w\") as Nikita_file:\n",
    "    Nikita_file.write(\"This economy was the history of country\\n\")\n",
    "    Nikita_file.write( \"This chicken piece is mine\\n\")\n",
    "    Nikita_file.write(\"Godzilla vs Kong\\n\")\n",
    "with open( \"Nikita.txt\",\"r\") as Nikita_file:\n",
    "    lines = Nikita_file.readlines()\n",
    "    print(lines)"
   ]
  },
  {
   "cell_type": "code",
   "execution_count": 118,
   "id": "1b0f5e2e-6e1d-4615-bdf2-15bfd4c50e51",
   "metadata": {},
   "outputs": [
    {
     "name": "stdout",
     "output_type": "stream",
     "text": [
      "['This economy was the history of country', 'This chicken piece is mine', 'Godzilla vs Kong']\n"
     ]
    }
   ],
   "source": [
    "with open(\"Nikita.txt\",\"r\") as Nikita_file:\n",
    "    lines = [line.strip() for line in Nikita_file]\n",
    "\n",
    "    print(lines)"
   ]
  },
  {
   "cell_type": "markdown",
   "id": "b9c9d03e-ff0e-4a98-bc66-aeb330743ce5",
   "metadata": {},
   "source": [
    "Answer 10"
   ]
  },
  {
   "cell_type": "code",
   "execution_count": 124,
   "id": "34b39f38-979d-4e9f-b8ce-016487443e8c",
   "metadata": {},
   "outputs": [
    {
     "name": "stdout",
     "output_type": "stream",
     "text": [
      "Thor is the lord opf thunderThe Captain america is the first avengerThe Hulk and Thor are best friendsGozilla and King KongCome and get somethis is the fantastic thing I loved\n"
     ]
    }
   ],
   "source": [
    "with open(\"Nikita.txt\",\"w\") as Nikita_file:\n",
    "    Nikita_file.write(\"Thor is the lord opf thunder\")\n",
    "    Nikita_file.write(\"The Captain america is the first avenger\")\n",
    "    Nikita_file.write(\"The Hulk and Thor are best friends\")\n",
    "with open(\"Nikita.txt\",\"a\") as Nikita_file:\n",
    "    Nikita_file.write(\"Gozilla and King Kong\")\n",
    "    Nikita_file.write(\"Come and get some\")\n",
    "    Nikita_file.write(\"this is the fantastic thing I loved\")\n",
    "with open(\"Nikita.txt\",\"r\") as Nikita_file:\n",
    "    content = Nikita_file.read()\n",
    "    print(content)"
   ]
  },
  {
   "cell_type": "markdown",
   "id": "faff1792-777b-4ee1-85e5-15753c1e9a41",
   "metadata": {},
   "source": [
    "Answer 11"
   ]
  },
  {
   "cell_type": "code",
   "execution_count": 135,
   "id": "38c66280-0f94-429f-9b92-3c47dfc40fc4",
   "metadata": {},
   "outputs": [
    {
     "name": "stdout",
     "output_type": "stream",
     "text": [
      "Error: The key ''country' ' doesn't exist in the dictionaery\n",
      "The Program shall go continue\n"
     ]
    }
   ],
   "source": [
    "Qualification ={ \"name\" :\"Vianyak Prasad\",\n",
    "                 \"age\" : 20,\n",
    "                 \"city\" : \"Bangalore\"\n",
    "               }\n",
    "try:\n",
    "     King = Qualification[\"country\"]\n",
    "     print(\"The country\",King)\n",
    "except KeyError as fraud:\n",
    "    print(f\"Error: The key '{fraud} ' doesn't exist in the dictionaery\")\n",
    "    print(\"The Program shall go continue\")"
   ]
  },
  {
   "cell_type": "markdown",
   "id": "7545b891-bf9d-42cb-aa3c-bb6f5a39a2a1",
   "metadata": {},
   "source": [
    "Answer 12"
   ]
  },
  {
   "cell_type": "code",
   "execution_count": 139,
   "id": "eb5d3057-ef4f-4cfa-adc4-8f4cd30ea7ee",
   "metadata": {},
   "outputs": [
    {
     "name": "stdout",
     "output_type": "stream",
     "text": [
      "The Error:cannot divisible by zero\n"
     ]
    }
   ],
   "source": [
    "try:\n",
    "    Suresh_MR =1000/0\n",
    "    print(undefined_variable)\n",
    "    number = int(\"not_a_number\")\n",
    "except ZeroDivisionError:\n",
    "    print(\"The Error:cannot divisible by zero\")\n",
    "except NameError:\n",
    "    print(\"The Error:Tried to access such variable which hasn't defined\")\n",
    "except ValuError:\n",
    "    print(\"The Error: invalid conversion of string into integer\")\n",
    "\n",
    "    print(\"Program continue after facing lot of exception\")"
   ]
  },
  {
   "cell_type": "markdown",
   "id": "f73b5f9b-5c54-425f-a6a8-372e2cd2e16f",
   "metadata": {},
   "source": [
    "Answer 13"
   ]
  },
  {
   "cell_type": "code",
   "execution_count": 146,
   "id": "a8b7fa06-356e-46e8-82fe-f98199590d23",
   "metadata": {},
   "outputs": [
    {
     "name": "stdout",
     "output_type": "stream",
     "text": [
      "File '{file_path}' does not exist.\n"
     ]
    }
   ],
   "source": [
    "from pathlib import Path\n",
    "file_path = Path(\"Neki_file.txt\")\n",
    "if file_path.exists():\n",
    "    with open(file_path,\"r\") as file:\n",
    "        content = file.read()\n",
    "        print(\"File content:\",content)\n",
    "else:\n",
    "    print(\"File '{file_path}' does not exist.\")\n",
    "    "
   ]
  },
  {
   "cell_type": "code",
   "execution_count": null,
   "id": "5c1f526d-1894-4465-a049-2e0985ea7e4f",
   "metadata": {},
   "outputs": [],
   "source": [
    "import os\n",
    "file_path = \"venom_file.txt\"\n",
    "if os.path.exists(file_path):\n",
    "    with open(file_path,\"r\") as file:\n",
    "        content = venom_file.read()\n",
    "        print(\"Venom_File content:\",content)\n",
    "else:\n",
    "    print(f\"Venom File '{file_path}'does not exist.\")"
   ]
  },
  {
   "cell_type": "markdown",
   "id": "a8619556-228f-402d-81d7-60377d0fba30",
   "metadata": {},
   "source": [
    "Answer 14"
   ]
  },
  {
   "cell_type": "code",
   "execution_count": 1,
   "id": "daa67be3-714f-42c1-84ed-d31e86abc8e1",
   "metadata": {},
   "outputs": [
    {
     "name": "stderr",
     "output_type": "stream",
     "text": [
      "--- Logging error ---\n",
      "Traceback (most recent call last):\n",
      "  File \"C:\\Users\\hi\\AppData\\Local\\Temp\\ipykernel_8\\3833080626.py\", line 9, in <module>\n",
      "    result = 10/0\n",
      "             ~~^~\n",
      "ZeroDivisionError: division by zero\n",
      "\n",
      "During handling of the above exception, another exception occurred:\n",
      "\n",
      "Traceback (most recent call last):\n",
      "  File \"C:\\ProgramData\\anaconda3\\Lib\\logging\\__init__.py\", line 1151, in emit\n",
      "    msg = self.format(record)\n",
      "  File \"C:\\ProgramData\\anaconda3\\Lib\\logging\\__init__.py\", line 999, in format\n",
      "    return fmt.format(record)\n",
      "           ~~~~~~~~~~^^^^^^^^\n",
      "  File \"C:\\ProgramData\\anaconda3\\Lib\\logging\\__init__.py\", line 712, in format\n",
      "    record.message = record.getMessage()\n",
      "                     ~~~~~~~~~~~~~~~~~^^\n",
      "  File \"C:\\ProgramData\\anaconda3\\Lib\\logging\\__init__.py\", line 400, in getMessage\n",
      "    msg = msg % self.args\n",
      "          ~~~~^~~~~~~~~~~\n",
      "TypeError: not all arguments converted during string formatting\n",
      "Call stack:\n",
      "  File \"C:\\ProgramData\\anaconda3\\Lib\\runpy.py\", line 198, in _run_module_as_main\n",
      "    return _run_code(code, main_globals, None,\n",
      "  File \"C:\\ProgramData\\anaconda3\\Lib\\runpy.py\", line 88, in _run_code\n",
      "    exec(code, run_globals)\n",
      "  File \"C:\\ProgramData\\anaconda3\\Lib\\site-packages\\ipykernel_launcher.py\", line 18, in <module>\n",
      "    app.launch_new_instance()\n",
      "  File \"C:\\ProgramData\\anaconda3\\Lib\\site-packages\\traitlets\\config\\application.py\", line 1075, in launch_instance\n",
      "    app.start()\n",
      "  File \"C:\\ProgramData\\anaconda3\\Lib\\site-packages\\ipykernel\\kernelapp.py\", line 739, in start\n",
      "    self.io_loop.start()\n",
      "  File \"C:\\ProgramData\\anaconda3\\Lib\\site-packages\\tornado\\platform\\asyncio.py\", line 211, in start\n",
      "    self.asyncio_loop.run_forever()\n",
      "  File \"C:\\ProgramData\\anaconda3\\Lib\\asyncio\\base_events.py\", line 683, in run_forever\n",
      "    self._run_once()\n",
      "  File \"C:\\ProgramData\\anaconda3\\Lib\\asyncio\\base_events.py\", line 2042, in _run_once\n",
      "    handle._run()\n",
      "  File \"C:\\ProgramData\\anaconda3\\Lib\\asyncio\\events.py\", line 89, in _run\n",
      "    self._context.run(self._callback, *self._args)\n",
      "  File \"C:\\ProgramData\\anaconda3\\Lib\\site-packages\\ipykernel\\kernelbase.py\", line 545, in dispatch_queue\n",
      "    await self.process_one()\n",
      "  File \"C:\\ProgramData\\anaconda3\\Lib\\site-packages\\ipykernel\\kernelbase.py\", line 534, in process_one\n",
      "    await dispatch(*args)\n",
      "  File \"C:\\ProgramData\\anaconda3\\Lib\\site-packages\\ipykernel\\kernelbase.py\", line 437, in dispatch_shell\n",
      "    await result\n",
      "  File \"C:\\ProgramData\\anaconda3\\Lib\\site-packages\\ipykernel\\ipkernel.py\", line 362, in execute_request\n",
      "    await super().execute_request(stream, ident, parent)\n",
      "  File \"C:\\ProgramData\\anaconda3\\Lib\\site-packages\\ipykernel\\kernelbase.py\", line 778, in execute_request\n",
      "    reply_content = await reply_content\n",
      "  File \"C:\\ProgramData\\anaconda3\\Lib\\site-packages\\ipykernel\\ipkernel.py\", line 449, in do_execute\n",
      "    res = shell.run_cell(\n",
      "  File \"C:\\ProgramData\\anaconda3\\Lib\\site-packages\\ipykernel\\zmqshell.py\", line 549, in run_cell\n",
      "    return super().run_cell(*args, **kwargs)\n",
      "  File \"C:\\ProgramData\\anaconda3\\Lib\\site-packages\\IPython\\core\\interactiveshell.py\", line 3075, in run_cell\n",
      "    result = self._run_cell(\n",
      "  File \"C:\\ProgramData\\anaconda3\\Lib\\site-packages\\IPython\\core\\interactiveshell.py\", line 3130, in _run_cell\n",
      "    result = runner(coro)\n",
      "  File \"C:\\ProgramData\\anaconda3\\Lib\\site-packages\\IPython\\core\\async_helpers.py\", line 128, in _pseudo_sync_runner\n",
      "    coro.send(None)\n",
      "  File \"C:\\ProgramData\\anaconda3\\Lib\\site-packages\\IPython\\core\\interactiveshell.py\", line 3334, in run_cell_async\n",
      "    has_raised = await self.run_ast_nodes(code_ast.body, cell_name,\n",
      "  File \"C:\\ProgramData\\anaconda3\\Lib\\site-packages\\IPython\\core\\interactiveshell.py\", line 3517, in run_ast_nodes\n",
      "    if await self.run_code(code, result, async_=asy):\n",
      "  File \"C:\\ProgramData\\anaconda3\\Lib\\site-packages\\IPython\\core\\interactiveshell.py\", line 3577, in run_code\n",
      "    exec(code_obj, self.user_global_ns, self.user_ns)\n",
      "  File \"C:\\Users\\hi\\AppData\\Local\\Temp\\ipykernel_8\\3833080626.py\", line 11, in <module>\n",
      "    logging.error(\"Tried to divide the number by zero\",e)\n",
      "Message: 'Tried to divide the number by zero'\n",
      "Arguments: (ZeroDivisionError('division by zero'),)\n"
     ]
    }
   ],
   "source": [
    "import logging\n",
    "logging.basicConfig(\n",
    "    filename = \"NISHA.log\",\n",
    "    level = logging.DEBUG,\n",
    "    format = \"%(asctime)s-&(levelname)s - &(message)s\"\n",
    ")\n",
    "logging.info(\" This prey is my mine,no one dare to tounch him\")\n",
    "try:\n",
    "    result = 10/0\n",
    "except ZeroDivisionError as e:\n",
    "    logging.error(\"Tried to divide the number by zero\",e)\n",
    "    logging.info(\"The hunter will haunt you till upto death\")"
   ]
  },
  {
   "cell_type": "markdown",
   "id": "aedf1a6e-e652-4c68-96a8-1afc22e0b301",
   "metadata": {},
   "source": [
    "Answer 15"
   ]
  },
  {
   "cell_type": "code",
   "execution_count": 5,
   "id": "e6a9e043-4264-48f8-a5ce-d880ba8892f7",
   "metadata": {},
   "outputs": [
    {
     "name": "stdout",
     "output_type": "stream",
     "text": [
      "The Error:The dhana file isn't exist\n"
     ]
    }
   ],
   "source": [
    "import os\n",
    "dhana_file_name = \"Dhanashree.txt\"\n",
    "try:\n",
    "    if not os.path.exists(dhana_file_name):\n",
    "        print(\"The Error:The dhana file isn't exist\")\n",
    "    else:\n",
    "        with open(dhana_file_name, \"r\") as dhana_file:\n",
    "            content =dhana_file.read()\n",
    "            if not content.strip():\n",
    "                print(\"The dhana file is empty\")\n",
    "            else:\n",
    "                print(\"dhana_file content\")\n",
    "except exception as e:\n",
    "    print(f\"an errror occcured as {e}\")"
   ]
  },
  {
   "cell_type": "markdown",
   "id": "9e59019a-03f6-490a-a4d9-06eea1107592",
   "metadata": {},
   "source": [
    "Answer 16 -?\n"
   ]
  },
  {
   "cell_type": "markdown",
   "id": "314c021b-b6f1-470a-9bc8-efcc384b2947",
   "metadata": {},
   "source": [
    "Answer 17"
   ]
  },
  {
   "cell_type": "code",
   "execution_count": 6,
   "id": "12f9f72c-2276-4924-8fd6-69b2c047e8ef",
   "metadata": {},
   "outputs": [
    {
     "name": "stdout",
     "output_type": "stream",
     "text": [
      "It written suuccessful 9 to quantity.txt .\n"
     ]
    }
   ],
   "source": [
    "quantity = [10,20,30,40,50,60,70,80,90]\n",
    "quantity_file_name = \"quantity.txt\"\n",
    "with open(quantity_file_name, \"w\") as quantity_file:\n",
    "    for number in quantity:\n",
    "        quantity_file.write(f\"{quantity}\\n\")\n",
    "print(f\"It written suuccessful {len(quantity)} to {quantity_file_name} .\")"
   ]
  },
  {
   "cell_type": "markdown",
   "id": "ba78d4c1-1d5d-48af-99d1-cd802ea17257",
   "metadata": {},
   "source": [
    "Answer 18 - ?"
   ]
  },
  {
   "cell_type": "markdown",
   "id": "05d3c747-1242-4a73-a893-ed01a6820a80",
   "metadata": {},
   "source": [
    "Answer 19"
   ]
  },
  {
   "cell_type": "code",
   "execution_count": 7,
   "id": "f25821e5-4513-4324-8577-37afb4c4b967",
   "metadata": {},
   "outputs": [
    {
     "name": "stdout",
     "output_type": "stream",
     "text": [
      "Error: 78 is not in tu_meri list\n"
     ]
    }
   ],
   "source": [
    "tu_meri = [1,2,3,4,5]\n",
    "aap_meri = {\"name\":\"Vinayak Prasad\",\"age\":25}\n",
    "try:\n",
    "    print(\"tu meri aaj aaaj\",tu_meri[78])\n",
    "    print(\"aap meri ho\",  aap_meri[\"city\"])\n",
    "\n",
    "except IndexError:\n",
    "    print(\"Error: 78 is not in tu_meri list\")\n",
    "\n",
    "except KeyError:\n",
    "    print(\"Error:city is not in aap_meri dictionary\")\n",
    " "
   ]
  },
  {
   "cell_type": "markdown",
   "id": "f4dbc97e-6ce9-4f28-b25d-492f86c3204d",
   "metadata": {},
   "source": [
    "Answer 20"
   ]
  },
  {
   "cell_type": "code",
   "execution_count": 8,
   "id": "b597354a-1673-45b0-abf1-4ef063d9b10e",
   "metadata": {},
   "outputs": [
    {
     "name": "stdout",
     "output_type": "stream",
     "text": [
      "The Content in the file: \n",
      "\n",
      " come on baby come on baby\n",
      "fight and fight baby \n",
      "conflict and hostility started between two countries \n",
      "\n"
     ]
    }
   ],
   "source": [
    "example_file_name = \"example.txt\"\n",
    "with open(example_file_name, \"w\") as example_file:\n",
    "    example_file.write(\" come on baby come on baby\\n\")\n",
    "    example_file.write(\"fight and fight baby \\n\")\n",
    "    example_file.write(\"conflict and hostility started between two countries \\n\")\n",
    "with open(example_file_name, \"r\") as example_file:\n",
    "    content = example_file.read()\n",
    "    print(\"The Content in the file: \\n\")\n",
    "    print(content)"
   ]
  },
  {
   "cell_type": "markdown",
   "id": "9452529c-2959-49ef-a426-ef1d5de48e5f",
   "metadata": {},
   "source": [
    "Answer 21"
   ]
  },
  {
   "cell_type": "code",
   "execution_count": 19,
   "id": "127c2cd8-8ba2-45a3-b0a3-e47c01fa1ac5",
   "metadata": {},
   "outputs": [
    {
     "name": "stdout",
     "output_type": "stream",
     "text": [
      "The sentances is This is the bussinessappears 0 times.\n"
     ]
    }
   ],
   "source": [
    "with open(\"Vinuuu.txt\",\"w\") as Vinuuu_file:\n",
    "    Vinuuu_file.write(\"This is the Kingdom of world.\\n this is the world.\\n\")\n",
    "\n",
    "\n",
    "\n",
    "\n",
    "filename = \"Vinuuu.txt\"\n",
    "word_to_do = \"This is the bussiness\"\n",
    "\n",
    "with open(filename,\"r\") as Vinuuu_file:\n",
    "    content = Vinuuu_file.read()\n",
    "count = content.lower().count(word_to_do.lower())\n",
    "print(f\"The sentances is {word_to_do}appears {count} times.\")"
   ]
  },
  {
   "cell_type": "markdown",
   "id": "9f538081-9528-442e-9bee-3a2b5c88e1c0",
   "metadata": {},
   "source": [
    "Answer 22"
   ]
  },
  {
   "cell_type": "code",
   "execution_count": 26,
   "id": "b6333877-a761-4fd4-9510-13d20eac5a19",
   "metadata": {},
   "outputs": [
    {
     "ename": "SyntaxError",
     "evalue": "invalid syntax (2638734244.py, line 6)",
     "output_type": "error",
     "traceback": [
      "\u001b[1;36m  Cell \u001b[1;32mIn[26], line 6\u001b[1;36m\u001b[0m\n\u001b[1;33m    if os.path.exists(filename) and\u001b[0m\n\u001b[1;37m                                    ^\u001b[0m\n\u001b[1;31mSyntaxError\u001b[0m\u001b[1;31m:\u001b[0m invalid syntax\n"
     ]
    }
   ],
   "source": [
    "\n",
    "\n",
    "import os\n",
    "\n",
    "filename = \"Kingdom.txt\"\n",
    "\n",
    "\n",
    "if os.path.exists(filename) and \n",
    "os.stat(filename).st_size > 0:\n",
    "    with open(filename. \"r\")as file:\n",
    "    content = file.read()\n",
    "    print(\"The file content\", content)\n",
    "else:\n",
    "    print(\"The file is empty\")"
   ]
  },
  {
   "cell_type": "code",
   "execution_count": 50,
   "id": "9a029363-3ea1-40aa-a585-0be7348dca73",
   "metadata": {},
   "outputs": [
    {
     "name": "stdout",
     "output_type": "stream",
     "text": [
      "The file doesn't exist.\n"
     ]
    }
   ],
   "source": [
    "filename = \"Kingdom.txt\"\n",
    "try:\n",
    "    with open(filename,\"r\") as file:\n",
    "              content = file.read()\n",
    "              if content == \"\":\n",
    "                   print(\"The file is empty\")\n",
    "              else:\n",
    "                    print(\" File content\",\n",
    "content)\n",
    "\n",
    "except FileNotFoundError:\n",
    "      print(\"The file doesn't exist.\")"
   ]
  },
  {
   "cell_type": "markdown",
   "id": "393c8b3f-c9bd-4736-8e73-8c8a16a68018",
   "metadata": {},
   "source": [
    "Answer 23"
   ]
  },
  {
   "cell_type": "code",
   "execution_count": 55,
   "id": "8a4e5ccf-8f94-4cb2-b31c-7181873a6806",
   "metadata": {},
   "outputs": [
    {
     "ename": "IndentationError",
     "evalue": "unexpected indent (1214932568.py, line 11)",
     "output_type": "error",
     "traceback": [
      "\u001b[1;36m  Cell \u001b[1;32mIn[55], line 11\u001b[1;36m\u001b[0m\n\u001b[1;33m    logging.error(\"Error: %s\",e)\u001b[0m\n\u001b[1;37m    ^\u001b[0m\n\u001b[1;31mIndentationError\u001b[0m\u001b[1;31m:\u001b[0m unexpected indent\n"
     ]
    }
   ],
   "source": [
    "import logging\n",
    "logging,basicConfig(filename = \"error.log\",\n",
    "level = logging.ERROR)\n",
    "try:\n",
    "    file = open(\"Kingdom.txt\",\"r\")\n",
    "    content = file.read()\n",
    "    print(content)\n",
    "    file.close()\n",
    "except Exception as e:\n",
    "    print(\"An error occured while handling the file.\")\n",
    "         logging.error(\"Error: %s\",e)"
   ]
  }
 ],
 "metadata": {
  "kernelspec": {
   "display_name": "Python 3 (ipykernel)",
   "language": "python",
   "name": "python3"
  },
  "language_info": {
   "codemirror_mode": {
    "name": "ipython",
    "version": 3
   },
   "file_extension": ".py",
   "mimetype": "text/x-python",
   "name": "python",
   "nbconvert_exporter": "python",
   "pygments_lexer": "ipython3",
   "version": "3.13.5"
  }
 },
 "nbformat": 4,
 "nbformat_minor": 5
}
